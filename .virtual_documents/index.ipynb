

















# Importing libraries we will work with

import pandas as pd
import numpy as np
import matplotlib.pyplot as plt
import seaborn as sns





# Load data
df = pd.read_csv('AviationData.csv', encoding='ISO-8859-1')


# Checking the dataset content
df





df.head()





columns = df.columns
columns


# Checking information in the dataset
df.info()


# Shape of the dataset
df.shape





df.describe()








# Checking for columns with mixed data types

# Function to identify mixed data types in a column
def check_mixed_types(column):
    types = column.apply(type).unique()
    return len(types) > 1

# Applying the function to each column
mixed_type_columns = {col: df[col].apply(type).unique() for col in columns if check_mixed_types(df[col])}

# Displaying columns with mixed data types and their unique types
for col, types in mixed_type_columns.items():
    print(f"Column '{col}' has mixed types: {types}")





numeric_cols = ['Number.of.Engines', 'Total.Fatal.Injuries', 
                'Total.Serious.Injuries', 'Total.Minor.Injuries', 
                'Total.Uninjured']
for col in numeric_cols:
    df[col] = pd.to_numeric(df[col], errors = 'coerce')


categorical_cols = ['Injury.Severity', 'Aircraft.damage', 'Make', 'Model',
                     'Amateur.Built', 'Engine.Type', 'Purpose.of.flight',
                    'Weather.Condition', 'Broad.phase.of.flight', 'Report.Status']
for col in categorical_cols:
    df[col] = df[col].astype(str)
    df[col] = df[col].astype('category')





# Creating a variable to find out how many duplicates are in Event.Id 
duplicated_event_id = df['Event.Id'].duplicated().sum()

print(f"There are {duplicated_event_id} duplicated event id's.")


# Dropping duplicates in Event.Id
df = df.drop_duplicates(subset = 'Event.Id')
df


# Confirming if there are any more duplicates in Event.Id
df['Event.Id'].duplicated().any()





# We will need to create a copy of the dataset in order not to affect the original
df = df.copy()
df['Event.Date'] = pd.to_datetime(df['Event.Date'], errors = 'coerce')


# To review the all the columns data types(specifically on 'Event.Date')
df.dtypes





# Checking count for missing values in percentages
missing_vals = df.isnull().sum()

missing_vals_percentage = (missing_vals/len(df))*100
missing_vals_percentage





# Function to clean a single column
def clean_column(column):
    # Convert 'nan' string to actual NaN values
    column = column.replace('nan', np.nan)

    # Standardize 'UNK' and 'Unk' to a single representation
    column = column.replace({'Unk': 'UNK'})
    return column

# Apply the cleaning function to all columns in the DataFrame
df = df.apply(clean_column)

# For categorical columns, remove 'nan' category
for col in df.select_dtypes(include=['category']).columns:
    if 'nan' in df[col].cat.categories:
        df[col] = df[col].cat.remove_categories('nan')

df





# # Dropping columns with high percentages of missing values(preferably over 40%)
df = df.drop(columns=['Latitude', 'Longitude', 'Airport.Code', 
                      'Airport.Name', 'Aircraft.Category', 'FAR.Description', 
                      'Schedule', 'Air.carrier', ])
df








# Creating function to fill in missing values in numerical columns with the median
for col in numeric_cols:
    df[col].fillna(df[col].median(), inplace=True)



# Creating function to fill in missing values in categorical columns with the mode
for col in categorical_cols:
    df[col].fillna(df[col].mode()[0], inplace=True)
                


# Checking data
df.info()





# Checking count of columns with missing values
df.isna().sum()





# Filling missing values for Location, Registration Number and Country with unknown
df['Location'].fillna('Unknown', inplace=True)
df['Country'].fillna('Unknown', inplace=True)
df['Registration.Number'].fillna('Unknown', inplace=True)


# Dropping rows with no Publication.Date
df = df.dropna(subset=['Publication.Date'])


df.isna().sum()


df














# Extracting year from 'Event.Date'
df.loc[:,'Year'] = df['Event.Date'].dt.year

# Plotting the distribution of accidents over time
plt.figure(figsize=(16,6))
df['Year'].value_counts().sort_index().plot(kind='bar', color='red')
plt.title('DISTRIBUTION OF AIR ACCIDENTS BETWEEN 1962 AND 2022')
plt.xlabel('Year')
plt.ylabel('Number of Accidents')
plt.xticks(rotation=45)
plt.show()


print(f"There has been a general decrease in the number of aircraft accidents over the years between 1962 to 2022.")








df.loc[:,'Make'] = df['Make'].str.upper()


# Calculating accident and fatal injury counts per aircraft make
accident_counts = df['Make'].value_counts()
fatal_injury_counts = df.groupby('Make')['Total.Fatal.Injuries'].sum()

# Creating a DataFrame for risk assessment
risk_df = pd.DataFrame({
    'Accident Count': accident_counts,
    'Total Fatal Injuries': fatal_injury_counts
})

# Calculate Fatal Injuries per accident for different aircraft manufacturers
risk_df['Fatal Injuries per Accident'] = risk_df['Total Fatal Injuries'] / risk_df['Accident Count']

# Identifying aircraft makes with highest and lowest risks(top 10)
lowest_risk_aircraft = risk_df.nsmallest(10, 'Fatal Injuries per Accident')
highest_risk_aircraft = risk_df.nlargest(10, 'Fatal Injuries per Accident')

print("Lowest Risk Aircraft:")
print(lowest_risk_aircraft)

print("Highest Risk Aircraft:")
print(highest_risk_aircraft)


fig, axs = plt.subplots(2, 1, figsize=(12, 12))

# Plotting lowest risk aircraft
axs[0].bar(lowest_risk_aircraft.index, lowest_risk_aircraft['Fatal Injuries per Accident'], color='green')
axs[0].set_title('A Distribution of Aircraft Types with Lowest Risk (Fatal Injuries per Accident)')
axs[0].set_xlabel('Aircraft Make')
axs[0].set_ylabel('Fatal Injuries per Accident')
axs[0].tick_params(axis='x', rotation=45)

# Plotting highest risk aircraft
axs[1].bar(highest_risk_aircraft.index, highest_risk_aircraft['Fatal Injuries per Accident'], color='skyblue')
axs[1].set_title('A Distribution of Aircraft Types with Highest Risk (Fatal Injuries per Accident)')
axs[1].set_xlabel('Aircraft Make')
axs[1].set_ylabel('Fatal Injuries per Accident')
axs[1].tick_params(axis='x', rotation=45)

plt.tight_layout()
plt.show()








# Count the number of accidents by weather condition
weather_conditions = df['Weather.Condition'].value_counts()

# Plot
plt.figure(figsize=(8, 6))
weather_conditions.plot(kind='bar', color='green')
plt.title('Distribution of Number of Accidents by Weather Condition')
plt.xlabel('Weather Condition')
plt.ylabel('Number of Accidents')
plt.show()





df['Broad.phase.of.flight'].dtype


# Removing nan values from the column
df.loc[:,'Broad.phase.of.flight']= df['Broad.phase.of.flight'].replace('nan', np.nan)


# Count the number of accidents by broad phase of flight
phases_of_flight = df['Broad.phase.of.flight'].value_counts()

# Plot
plt.figure(figsize=(12, 6))
phases_of_flight.plot(kind='bar', color='lightcoral')
plt.title('Distribution of Number of Accidents by Phase of Flight')
plt.xlabel('Phase of Flight')
plt.ylabel('Number of Accidents')
plt.xticks(rotation=45)
plt.show()











aircraft_accidents = df['Make'].value_counts().sort_values(ascending = False).head(10)
aircraft_accidents

plt.figure(figsize =(10,6))
aircraft_accidents.plot(kind = 'barh', color = 'purple')
plt.title('TOP 10 AIRCRAFT MANUFACTURERS INVOLVED IN MOST AIR ACCIDENTS')
plt.xlabel('Number of Accidents')
plt.ylabel('Aircraft Manufacturer')
plt.xticks(rotation = 45)
plt.show()










