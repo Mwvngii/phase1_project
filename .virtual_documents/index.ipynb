import pandas as pd
import numpy as np
import matplotlib.pyplot as plt



df = pd.read_csv('AviationData.csv', encoding='ISO-8859-1')


df


df.head()



